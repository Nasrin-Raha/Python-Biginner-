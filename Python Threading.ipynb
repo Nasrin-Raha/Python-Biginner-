{
 "cells": [
  {
   "cell_type": "code",
   "execution_count": 1,
   "id": "0a89a496",
   "metadata": {},
   "outputs": [],
   "source": [
    "# A thread is a sequence of instructions in a program that can be executed independently of the reamining program"
   ]
  },
  {
   "cell_type": "code",
   "execution_count": 2,
   "id": "76c365e8",
   "metadata": {},
   "outputs": [
    {
     "name": "stdout",
     "output_type": "stream",
     "text": [
      "This is a child thread\n",
      "This is parent thread\n"
     ]
    }
   ],
   "source": [
    "from threading import *\n",
    "def show():\n",
    "    print(\"This is a child thread\")\n",
    "t = Thread(target = show()) # class thread\n",
    "t.start()\n",
    "print(\"This is parent thread\")"
   ]
  },
  {
   "cell_type": "code",
   "execution_count": 7,
   "id": "a2137d19",
   "metadata": {},
   "outputs": [
    {
     "name": "stdout",
     "output_type": "stream",
     "text": [
      "\n",
      " This is a child class\n",
      " This is the main thread\n",
      "\n",
      " This is the main thread\n",
      "\n",
      " This is the main thread\n",
      "\n",
      " This is the main thread\n",
      "\n",
      " This is the main thread\n",
      "\n",
      "\n",
      " This is a child class\n",
      "\n",
      " This is a child class\n",
      "\n",
      " This is a child class\n",
      "\n",
      " This is a child class\n"
     ]
    }
   ],
   "source": [
    "class myThread(Thread):  # inherirted parent class\n",
    "    def run(self):\n",
    "        for i in range(5):\n",
    "            print(\"\\n This is a child class\")\n",
    "            \n",
    "t = myThread()\n",
    "t.start()\n",
    "      \n",
    "for i in range(5):\n",
    "    print(\"\\n This is the main thread\")\n",
    "    "
   ]
  },
  {
   "cell_type": "code",
   "execution_count": 8,
   "id": "edc44eed",
   "metadata": {},
   "outputs": [
    {
     "name": "stdout",
     "output_type": "stream",
     "text": [
      "This is the child threat\n",
      "This is the child threat\n",
      "This is the child threat\n",
      "This is the child threat\n",
      "This is the child threat\n",
      "This is the parent thread\n",
      "This is the parent thread\n",
      "This is the parent thread\n",
      "This is the parent thread\n",
      "This is the parent thread\n"
     ]
    }
   ],
   "source": [
    "class Demo:\n",
    "    def show(self):\n",
    "        for i in range(5):\n",
    "            print(\"This is the child threat\")\n",
    "            \n",
    "obj = Demo()\n",
    "t = Thread(target = obj.show())\n",
    "t.start()\n",
    "\n",
    "for i in range(5):\n",
    "    print(\"This is the parent thread\")"
   ]
  },
  {
   "cell_type": "markdown",
   "id": "c964facf",
   "metadata": {},
   "source": [
    "# Multithreathing"
   ]
  },
  {
   "cell_type": "code",
   "execution_count": 9,
   "id": "ac424024",
   "metadata": {},
   "outputs": [],
   "source": [
    "# A model where multiple threats within a process excuted independently while sharing the same resource is called multithreating"
   ]
  },
  {
   "cell_type": "code",
   "execution_count": 14,
   "id": "b28dcd2a",
   "metadata": {},
   "outputs": [
    {
     "name": "stdout",
     "output_type": "stream",
     "text": [
      "The number is 1\n",
      "The double of the number is 2\n",
      "The square of the  number is:  1\n",
      "The number is 2\n",
      "The double of the number is 4\n",
      "The square of the  number is:  4\n",
      "The number is 3\n",
      "The double of the number is 6\n",
      "The square of the  number is:  9\n",
      "The number is 4\n",
      "The double of the number is 8\n",
      "The square of the  number is:  16\n",
      "The number is 5\n",
      "The double of the number is 10\n",
      "The square of the  number is:  25\n",
      "This is the main thread\n"
     ]
    }
   ],
   "source": [
    "from threading import *\n",
    "import time\n",
    "class Demo:\n",
    "    def num(self):\n",
    "        for i in range(1, 6):\n",
    "            print(\"The number is\", i)\n",
    "            time.sleep(1)  # means execute one second later after the other\n",
    "            \n",
    "    def double(self):\n",
    "        for i in range(1, 6):\n",
    "            print(\"The double of the number is\", 2*i)\n",
    "            time.sleep(1)\n",
    "            \n",
    "    def square(self):\n",
    "        for i in range(1, 6):\n",
    "            print(\"The square of the  number is: \", i*i)\n",
    "            time.sleep(1)\n",
    "            \n",
    "obj = Demo()\n",
    "t1 = Thread(target = obj.num)\n",
    "t2 = Thread(target = obj.double)\n",
    "t3 = Thread(target = obj.square)\n",
    "\n",
    "t1.start()\n",
    "time.sleep(0.2)\n",
    "t2.start()\n",
    "time.sleep(0.2)\n",
    "t3.start()\n",
    "\n",
    "t1.join()\n",
    "t2.join()\n",
    "t3.join()\n",
    "\n",
    "print(\"This is the main thread\")"
   ]
  },
  {
   "cell_type": "code",
   "execution_count": null,
   "id": "10b8bd79",
   "metadata": {},
   "outputs": [],
   "source": []
  }
 ],
 "metadata": {
  "kernelspec": {
   "display_name": "Python 3 (ipykernel)",
   "language": "python",
   "name": "python3"
  },
  "language_info": {
   "codemirror_mode": {
    "name": "ipython",
    "version": 3
   },
   "file_extension": ".py",
   "mimetype": "text/x-python",
   "name": "python",
   "nbconvert_exporter": "python",
   "pygments_lexer": "ipython3",
   "version": "3.11.5"
  }
 },
 "nbformat": 4,
 "nbformat_minor": 5
}
