{
 "cells": [
  {
   "cell_type": "code",
   "execution_count": 1,
   "id": "064c0b65",
   "metadata": {},
   "outputs": [
    {
     "name": "stdout",
     "output_type": "stream",
     "text": [
      "This is the outside of the body\n"
     ]
    }
   ],
   "source": [
    "a = 20\n",
    "if a > 50:\n",
    "    print(\"This is the If body\")\n",
    "print(\"This is the outside of the body\")"
   ]
  },
  {
   "cell_type": "code",
   "execution_count": 2,
   "id": "fc2419e5",
   "metadata": {},
   "outputs": [],
   "source": [
    "# but if we change a to 60 then it will execute both of prints "
   ]
  },
  {
   "cell_type": "code",
   "execution_count": 3,
   "id": "397c8128",
   "metadata": {},
   "outputs": [
    {
     "name": "stdout",
     "output_type": "stream",
     "text": [
      "This is the If body\n",
      "This is the outside of the body\n"
     ]
    }
   ],
   "source": [
    "a = 60\n",
    "if a > 50:\n",
    "    print(\"This is the If body\")\n",
    "print(\"This is the outside of the body\")"
   ]
  },
  {
   "cell_type": "code",
   "execution_count": 4,
   "id": "9153e4ca",
   "metadata": {},
   "outputs": [
    {
     "name": "stdout",
     "output_type": "stream",
     "text": [
      "This is the if block\n",
      "This is an even number\n"
     ]
    }
   ],
   "source": [
    "i = 20\n",
    "if i%2 == 0:\n",
    "    print(\"This is the if block\")\n",
    "    print(\"This is an even number\")\n",
    "else:\n",
    "    print(\"This is the else block\")\n",
    "    print(\"This is an odd number\")"
   ]
  },
  {
   "cell_type": "code",
   "execution_count": 5,
   "id": "ff1af38a",
   "metadata": {},
   "outputs": [
    {
     "name": "stdout",
     "output_type": "stream",
     "text": [
      "This is the else block\n",
      "This is an odd number\n"
     ]
    }
   ],
   "source": [
    "i = 23\n",
    "if i%2 == 0:\n",
    "    print(\"This is the if block\")\n",
    "    print(\"This is an even number\")\n",
    "else:\n",
    "    print(\"This is the else block\")\n",
    "    print(\"This is an odd number\")"
   ]
  },
  {
   "cell_type": "code",
   "execution_count": 6,
   "id": "20a42578",
   "metadata": {},
   "outputs": [],
   "source": [
    "#Nested IF  check if a number is less than and if its odd or even number"
   ]
  },
  {
   "cell_type": "code",
   "execution_count": 8,
   "id": "7c98381f",
   "metadata": {},
   "outputs": [
    {
     "name": "stdout",
     "output_type": "stream",
     "text": [
      "This is an even number less than 25\n"
     ]
    }
   ],
   "source": [
    "a = 20\n",
    "if a < 25:\n",
    "    if a%2 == 0:\n",
    "        print(\"This is an even number less than 25\")\n",
    "    else:\n",
    "        print(\"This is an odd number less than 25\")\n",
    "        \n",
    "else:\n",
    "    print(\"a is greather than 25\")"
   ]
  },
  {
   "cell_type": "code",
   "execution_count": 9,
   "id": "bdcbbcfd",
   "metadata": {},
   "outputs": [
    {
     "name": "stdout",
     "output_type": "stream",
     "text": [
      "This is an odd number less than 25\n"
     ]
    }
   ],
   "source": [
    "a = 21\n",
    "if a < 25:\n",
    "    if a%2 == 0:\n",
    "        print(\"This is an even number less than 25\")\n",
    "    else:\n",
    "        print(\"This is an odd number less than 25\")\n",
    "        \n",
    "else:\n",
    "    print(\"a is greather than 25\")"
   ]
  },
  {
   "cell_type": "code",
   "execution_count": 10,
   "id": "68160aa8",
   "metadata": {},
   "outputs": [
    {
     "name": "stdout",
     "output_type": "stream",
     "text": [
      "a is greather than 25\n"
     ]
    }
   ],
   "source": [
    "a = 50\n",
    "if a < 25:\n",
    "    if a%2 == 0:\n",
    "        print(\"This is an even number less than 25\")\n",
    "    else:\n",
    "        print(\"This is an odd number less than 25\")\n",
    "        \n",
    "else:\n",
    "    print(\"a is greather than 25\")"
   ]
  },
  {
   "cell_type": "markdown",
   "id": "2567d500",
   "metadata": {},
   "source": [
    "# If, Elif, Else "
   ]
  },
  {
   "cell_type": "code",
   "execution_count": 11,
   "id": "e38522d4",
   "metadata": {},
   "outputs": [
    {
     "name": "stdout",
     "output_type": "stream",
     "text": [
      "This is the vowel a\n"
     ]
    }
   ],
   "source": [
    "var = \"a\"\n",
    "if var == \"a\":\n",
    "    print(\"This is the vowel a\")\n",
    "elif var == \"e\":\n",
    "    print(\"This is the vowel e\")\n",
    "elif var == \"i\":\n",
    "    print(\"This is the vowel i\")\n",
    "elif var == \"o\":\n",
    "    print(\"This is the vowel o\")\n",
    "elif var == \"u\":\n",
    "    print(\"This is the vowel u\")\n",
    "else:\n",
    "    print(\"This is a constant\")"
   ]
  },
  {
   "cell_type": "code",
   "execution_count": 12,
   "id": "d310cebe",
   "metadata": {},
   "outputs": [
    {
     "name": "stdout",
     "output_type": "stream",
     "text": [
      "This is the vowel e\n"
     ]
    }
   ],
   "source": [
    "var = \"e\"\n",
    "if var == \"a\":\n",
    "    print(\"This is the vowel a\")\n",
    "elif var == \"e\":\n",
    "    print(\"This is the vowel e\")\n",
    "elif var == \"i\":\n",
    "    print(\"This is the vowel i\")\n",
    "elif var == \"o\":\n",
    "    print(\"This is the vowel o\")\n",
    "elif var == \"u\":\n",
    "    print(\"This is the vowel u\")\n",
    "else:\n",
    "    print(\"This is a constant\")"
   ]
  },
  {
   "cell_type": "code",
   "execution_count": 13,
   "id": "f5ece97b",
   "metadata": {},
   "outputs": [
    {
     "name": "stdout",
     "output_type": "stream",
     "text": [
      "This is the vowel i\n"
     ]
    }
   ],
   "source": [
    "var = \"i\"\n",
    "if var == \"a\":\n",
    "    print(\"This is the vowel a\")\n",
    "elif var == \"e\":\n",
    "    print(\"This is the vowel e\")\n",
    "elif var == \"i\":\n",
    "    print(\"This is the vowel i\")\n",
    "elif var == \"o\":\n",
    "    print(\"This is the vowel o\")\n",
    "elif var == \"u\":\n",
    "    print(\"This is the vowel u\")\n",
    "else:\n",
    "    print(\"This is a constant\")"
   ]
  },
  {
   "cell_type": "code",
   "execution_count": 14,
   "id": "7fdada5a",
   "metadata": {},
   "outputs": [
    {
     "name": "stdout",
     "output_type": "stream",
     "text": [
      "This is the vowel o\n"
     ]
    }
   ],
   "source": [
    "var = \"o\"\n",
    "if var == \"a\":\n",
    "    print(\"This is the vowel a\")\n",
    "elif var == \"e\":\n",
    "    print(\"This is the vowel e\")\n",
    "elif var == \"i\":\n",
    "    print(\"This is the vowel i\")\n",
    "elif var == \"o\":\n",
    "    print(\"This is the vowel o\")\n",
    "elif var == \"u\":\n",
    "    print(\"This is the vowel u\")\n",
    "else:\n",
    "    print(\"This is a constant\")"
   ]
  },
  {
   "cell_type": "code",
   "execution_count": 15,
   "id": "2f7a7acd",
   "metadata": {},
   "outputs": [
    {
     "name": "stdout",
     "output_type": "stream",
     "text": [
      "This is the vowel u\n"
     ]
    }
   ],
   "source": [
    "var = \"u\"\n",
    "if var == \"a\":\n",
    "    print(\"This is the vowel a\")\n",
    "elif var == \"e\":\n",
    "    print(\"This is the vowel e\")\n",
    "elif var == \"i\":\n",
    "    print(\"This is the vowel i\")\n",
    "elif var == \"o\":\n",
    "    print(\"This is the vowel o\")\n",
    "elif var == \"u\":\n",
    "    print(\"This is the vowel u\")\n",
    "else:\n",
    "    print(\"This is a constant\")"
   ]
  },
  {
   "cell_type": "code",
   "execution_count": 16,
   "id": "eef30f10",
   "metadata": {},
   "outputs": [
    {
     "name": "stdout",
     "output_type": "stream",
     "text": [
      "This is a constant\n"
     ]
    }
   ],
   "source": [
    "var = \"z\"\n",
    "if var == \"a\":\n",
    "    print(\"This is the vowel a\")\n",
    "elif var == \"e\":\n",
    "    print(\"This is the vowel e\")\n",
    "elif var == \"i\":\n",
    "    print(\"This is the vowel i\")\n",
    "elif var == \"o\":\n",
    "    print(\"This is the vowel o\")\n",
    "elif var == \"u\":\n",
    "    print(\"This is the vowel u\")\n",
    "else:\n",
    "    print(\"This is a constant\")"
   ]
  },
  {
   "cell_type": "code",
   "execution_count": null,
   "id": "bad04ac7",
   "metadata": {},
   "outputs": [],
   "source": []
  }
 ],
 "metadata": {
  "kernelspec": {
   "display_name": "Python 3 (ipykernel)",
   "language": "python",
   "name": "python3"
  },
  "language_info": {
   "codemirror_mode": {
    "name": "ipython",
    "version": 3
   },
   "file_extension": ".py",
   "mimetype": "text/x-python",
   "name": "python",
   "nbconvert_exporter": "python",
   "pygments_lexer": "ipython3",
   "version": "3.11.5"
  }
 },
 "nbformat": 4,
 "nbformat_minor": 5
}
