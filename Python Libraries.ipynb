{
 "cells": [
  {
   "cell_type": "markdown",
   "id": "dd2ed73b",
   "metadata": {},
   "source": [
    "# Numpy "
   ]
  },
  {
   "cell_type": "code",
   "execution_count": 1,
   "id": "d4afdc38",
   "metadata": {},
   "outputs": [],
   "source": [
    "# Numerical Python general porpose is array proceesssing package"
   ]
  },
  {
   "cell_type": "code",
   "execution_count": 2,
   "id": "112c4fe0",
   "metadata": {},
   "outputs": [
    {
     "name": "stdout",
     "output_type": "stream",
     "text": [
      "<class 'numpy.ndarray'>\n"
     ]
    }
   ],
   "source": [
    "import numpy as np\n",
    "\n",
    "a = np.array([1,2,3])\n",
    "print(type(a))"
   ]
  },
  {
   "cell_type": "code",
   "execution_count": 3,
   "id": "1d345005",
   "metadata": {},
   "outputs": [
    {
     "name": "stdout",
     "output_type": "stream",
     "text": [
      "(3,)\n"
     ]
    }
   ],
   "source": [
    "print(a.shape)"
   ]
  },
  {
   "cell_type": "code",
   "execution_count": 7,
   "id": "4167cf10",
   "metadata": {},
   "outputs": [
    {
     "data": {
      "text/plain": [
       "array([[ 0,  1,  2,  3],\n",
       "       [ 4,  5,  6,  7],\n",
       "       [ 8,  9, 10, 11]])"
      ]
     },
     "execution_count": 7,
     "metadata": {},
     "output_type": "execute_result"
    }
   ],
   "source": [
    "b = np.arange(12).reshape(3,4)\n",
    "b"
   ]
  },
  {
   "cell_type": "code",
   "execution_count": 10,
   "id": "5d5d889e",
   "metadata": {},
   "outputs": [
    {
     "data": {
      "text/plain": [
       "array([[ 0,  1,  2,  3],\n",
       "       [ 4,  5,  6,  7],\n",
       "       [ 8,  9, 10, 11]])"
      ]
     },
     "execution_count": 10,
     "metadata": {},
     "output_type": "execute_result"
    }
   ],
   "source": [
    "b.reshape(3,4)\n",
    "b"
   ]
  },
  {
   "cell_type": "markdown",
   "id": "9934f1ae",
   "metadata": {},
   "source": [
    "# Scipy"
   ]
  },
  {
   "cell_type": "code",
   "execution_count": 11,
   "id": "07a816a5",
   "metadata": {},
   "outputs": [],
   "source": [
    "# stands for scientific python : used for scientific and technical computations"
   ]
  },
  {
   "cell_type": "code",
   "execution_count": 12,
   "id": "ca9fdf3a",
   "metadata": {},
   "outputs": [
    {
     "name": "stdout",
     "output_type": "stream",
     "text": [
      "299792458.0\n",
      "6.62607015e-34\n",
      "6.02214076e+23\n"
     ]
    }
   ],
   "source": [
    "from scipy import constants\n",
    "\n",
    "print(constants.c) # speed of light\n",
    "print(constants.h) # planks constant\n",
    "print(constants.N_A) # Avagadros number\n"
   ]
  },
  {
   "cell_type": "markdown",
   "id": "f6ac5d21",
   "metadata": {},
   "source": [
    "# Pandas"
   ]
  },
  {
   "cell_type": "code",
   "execution_count": 13,
   "id": "c39b87eb",
   "metadata": {},
   "outputs": [],
   "source": [
    "# stands for python data analysis library used for data analysis and data cleaning"
   ]
  },
  {
   "cell_type": "code",
   "execution_count": 17,
   "id": "860d4285",
   "metadata": {},
   "outputs": [
    {
     "data": {
      "text/html": [
       "<div>\n",
       "<style scoped>\n",
       "    .dataframe tbody tr th:only-of-type {\n",
       "        vertical-align: middle;\n",
       "    }\n",
       "\n",
       "    .dataframe tbody tr th {\n",
       "        vertical-align: top;\n",
       "    }\n",
       "\n",
       "    .dataframe thead th {\n",
       "        text-align: right;\n",
       "    }\n",
       "</style>\n",
       "<table border=\"1\" class=\"dataframe\">\n",
       "  <thead>\n",
       "    <tr style=\"text-align: right;\">\n",
       "      <th></th>\n",
       "      <th>A</th>\n",
       "      <th>B</th>\n",
       "      <th>C</th>\n",
       "      <th>D</th>\n",
       "      <th>E</th>\n",
       "    </tr>\n",
       "  </thead>\n",
       "  <tbody>\n",
       "    <tr>\n",
       "      <th>0</th>\n",
       "      <td>1.344337</td>\n",
       "      <td>0.517773</td>\n",
       "      <td>-0.832134</td>\n",
       "      <td>0.198411</td>\n",
       "      <td>0.257022</td>\n",
       "    </tr>\n",
       "    <tr>\n",
       "      <th>1</th>\n",
       "      <td>-1.876561</td>\n",
       "      <td>-0.180559</td>\n",
       "      <td>0.003641</td>\n",
       "      <td>0.808457</td>\n",
       "      <td>0.288158</td>\n",
       "    </tr>\n",
       "    <tr>\n",
       "      <th>2</th>\n",
       "      <td>0.376979</td>\n",
       "      <td>1.797265</td>\n",
       "      <td>0.170743</td>\n",
       "      <td>0.039170</td>\n",
       "      <td>1.544897</td>\n",
       "    </tr>\n",
       "    <tr>\n",
       "      <th>3</th>\n",
       "      <td>-0.565001</td>\n",
       "      <td>0.352267</td>\n",
       "      <td>2.310287</td>\n",
       "      <td>-0.686059</td>\n",
       "      <td>-2.340805</td>\n",
       "    </tr>\n",
       "    <tr>\n",
       "      <th>4</th>\n",
       "      <td>1.061966</td>\n",
       "      <td>1.328438</td>\n",
       "      <td>-1.611220</td>\n",
       "      <td>-0.302313</td>\n",
       "      <td>-0.720037</td>\n",
       "    </tr>\n",
       "    <tr>\n",
       "      <th>5</th>\n",
       "      <td>0.005945</td>\n",
       "      <td>0.169166</td>\n",
       "      <td>-0.499140</td>\n",
       "      <td>-0.832348</td>\n",
       "      <td>0.018371</td>\n",
       "    </tr>\n",
       "  </tbody>\n",
       "</table>\n",
       "</div>"
      ],
      "text/plain": [
       "          A         B         C         D         E\n",
       "0  1.344337  0.517773 -0.832134  0.198411  0.257022\n",
       "1 -1.876561 -0.180559  0.003641  0.808457  0.288158\n",
       "2  0.376979  1.797265  0.170743  0.039170  1.544897\n",
       "3 -0.565001  0.352267  2.310287 -0.686059 -2.340805\n",
       "4  1.061966  1.328438 -1.611220 -0.302313 -0.720037\n",
       "5  0.005945  0.169166 -0.499140 -0.832348  0.018371"
      ]
     },
     "execution_count": 17,
     "metadata": {},
     "output_type": "execute_result"
    }
   ],
   "source": [
    "import pandas as pd\n",
    "\n",
    "df = pd.DataFrame(np.random.randn(6,5),index = list(range(6)), columns = list(\"ABCDE\"))\n",
    "df"
   ]
  },
  {
   "cell_type": "code",
   "execution_count": 18,
   "id": "72fd5de4",
   "metadata": {},
   "outputs": [
    {
     "data": {
      "text/html": [
       "<div>\n",
       "<style scoped>\n",
       "    .dataframe tbody tr th:only-of-type {\n",
       "        vertical-align: middle;\n",
       "    }\n",
       "\n",
       "    .dataframe tbody tr th {\n",
       "        vertical-align: top;\n",
       "    }\n",
       "\n",
       "    .dataframe thead th {\n",
       "        text-align: right;\n",
       "    }\n",
       "</style>\n",
       "<table border=\"1\" class=\"dataframe\">\n",
       "  <thead>\n",
       "    <tr style=\"text-align: right;\">\n",
       "      <th></th>\n",
       "      <th>A</th>\n",
       "      <th>B</th>\n",
       "      <th>C</th>\n",
       "      <th>D</th>\n",
       "      <th>E</th>\n",
       "    </tr>\n",
       "  </thead>\n",
       "  <tbody>\n",
       "    <tr>\n",
       "      <th>count</th>\n",
       "      <td>6.000000</td>\n",
       "      <td>6.000000</td>\n",
       "      <td>6.000000</td>\n",
       "      <td>6.000000</td>\n",
       "      <td>6.000000</td>\n",
       "    </tr>\n",
       "    <tr>\n",
       "      <th>mean</th>\n",
       "      <td>0.057944</td>\n",
       "      <td>0.664058</td>\n",
       "      <td>-0.076304</td>\n",
       "      <td>-0.129114</td>\n",
       "      <td>-0.158732</td>\n",
       "    </tr>\n",
       "    <tr>\n",
       "      <th>std</th>\n",
       "      <td>1.174541</td>\n",
       "      <td>0.748661</td>\n",
       "      <td>1.331862</td>\n",
       "      <td>0.608170</td>\n",
       "      <td>1.294819</td>\n",
       "    </tr>\n",
       "    <tr>\n",
       "      <th>min</th>\n",
       "      <td>-1.876561</td>\n",
       "      <td>-0.180559</td>\n",
       "      <td>-1.611220</td>\n",
       "      <td>-0.832348</td>\n",
       "      <td>-2.340805</td>\n",
       "    </tr>\n",
       "    <tr>\n",
       "      <th>25%</th>\n",
       "      <td>-0.422265</td>\n",
       "      <td>0.214941</td>\n",
       "      <td>-0.748885</td>\n",
       "      <td>-0.590122</td>\n",
       "      <td>-0.535435</td>\n",
       "    </tr>\n",
       "    <tr>\n",
       "      <th>50%</th>\n",
       "      <td>0.191462</td>\n",
       "      <td>0.435020</td>\n",
       "      <td>-0.247749</td>\n",
       "      <td>-0.131572</td>\n",
       "      <td>0.137697</td>\n",
       "    </tr>\n",
       "    <tr>\n",
       "      <th>75%</th>\n",
       "      <td>0.890719</td>\n",
       "      <td>1.125772</td>\n",
       "      <td>0.128967</td>\n",
       "      <td>0.158601</td>\n",
       "      <td>0.280374</td>\n",
       "    </tr>\n",
       "    <tr>\n",
       "      <th>max</th>\n",
       "      <td>1.344337</td>\n",
       "      <td>1.797265</td>\n",
       "      <td>2.310287</td>\n",
       "      <td>0.808457</td>\n",
       "      <td>1.544897</td>\n",
       "    </tr>\n",
       "  </tbody>\n",
       "</table>\n",
       "</div>"
      ],
      "text/plain": [
       "              A         B         C         D         E\n",
       "count  6.000000  6.000000  6.000000  6.000000  6.000000\n",
       "mean   0.057944  0.664058 -0.076304 -0.129114 -0.158732\n",
       "std    1.174541  0.748661  1.331862  0.608170  1.294819\n",
       "min   -1.876561 -0.180559 -1.611220 -0.832348 -2.340805\n",
       "25%   -0.422265  0.214941 -0.748885 -0.590122 -0.535435\n",
       "50%    0.191462  0.435020 -0.247749 -0.131572  0.137697\n",
       "75%    0.890719  1.125772  0.128967  0.158601  0.280374\n",
       "max    1.344337  1.797265  2.310287  0.808457  1.544897"
      ]
     },
     "execution_count": 18,
     "metadata": {},
     "output_type": "execute_result"
    }
   ],
   "source": [
    "df.describe()"
   ]
  },
  {
   "cell_type": "markdown",
   "id": "cd74b104",
   "metadata": {},
   "source": [
    "# Matplotlib"
   ]
  },
  {
   "cell_type": "code",
   "execution_count": 19,
   "id": "4fedf582",
   "metadata": {},
   "outputs": [],
   "source": [
    "# plotting library for python used for data visualization"
   ]
  },
  {
   "cell_type": "code",
   "execution_count": 21,
   "id": "3f85c931",
   "metadata": {},
   "outputs": [
    {
     "data": {
      "image/png": "[encoded data removed]",
      "text/plain": [
       "<Figure size 640x480 with 1 Axes>"
      ]
     },
     "metadata": {},
     "output_type": "display_data"
    }
   ],
   "source": [
    "import numpy as np\n",
    "import matplotlib.pyplot as plt\n",
    "%matplotlib inline\n",
    "\n",
    "np.random.seed(10)\n",
    "\n",
    "N = 30\n",
    "x = np.random.rand(N)\n",
    "y = np.random.rand(N)\n",
    "colors = np.random.rand(N)\n",
    "\n",
    "area = (30 * np.random.rand(N))**2\n",
    "\n",
    "plt.scatter(x, y, s = area, c= colors, alpha = 0.4)\n",
    "plt.show()\n",
    "\n"
   ]
  },
  {
   "cell_type": "code",
   "execution_count": 22,
   "id": "2f067d95",
   "metadata": {},
   "outputs": [],
   "source": [
    "# we can use different types of style"
   ]
  },
  {
   "cell_type": "code",
   "execution_count": 24,
   "id": "0bfd60da",
   "metadata": {},
   "outputs": [
    {
     "data": {
      "image/png": "[encoded data removed]",
      "text/plain": [
       "<Figure size 640x480 with 1 Axes>"
      ]
     },
     "metadata": {},
     "output_type": "display_data"
    }
   ],
   "source": [
    "from matplotlib import style\n",
    "\n",
    "style.use(\"ggplot\")\n",
    "\n",
    "x = [2,4,6]\n",
    "y = [12,14,16]\n",
    "\n",
    "x2 = [3,3,4]\n",
    "y2 = [7,14,5]\n",
    "\n",
    "plt.bar(x, y, color = \"r\", align = \"center\")\n",
    "plt.bar(x2, y2, color = \"b\", align = \"center\")\n",
    "\n",
    "plt.title (\"Info\")\n",
    "plt.ylabel(\"y axis\")\n",
    "plt.xlabel(\"x axis\")\n",
    "plt.show()"
   ]
  },
  {
   "cell_type": "code",
   "execution_count": null,
   "id": "812a7118",
   "metadata": {},
   "outputs": [],
   "source": []
  }
 ],
 "metadata": {
  "kernelspec": {
   "display_name": "Python 3 (ipykernel)",
   "language": "python",
   "name": "python3"
  },
  "language_info": {
   "codemirror_mode": {
    "name": "ipython",
    "version": 3
   },
   "file_extension": ".py",
   "mimetype": "text/x-python",
   "name": "python",
   "nbconvert_exporter": "python",
   "pygments_lexer": "ipython3",
   "version": "3.11.5"
  }
 },
 "nbformat": 4,
 "nbformat_minor": 5
}
