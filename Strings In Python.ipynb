{
 "cells": [
  {
   "cell_type": "code",
   "execution_count": 2,
   "id": "b2d67c00",
   "metadata": {},
   "outputs": [
    {
     "data": {
      "text/plain": [
       "' Hey, dear How are you\\ndoing whats up\\n'"
      ]
     },
     "execution_count": 2,
     "metadata": {},
     "output_type": "execute_result"
    }
   ],
   "source": [
    "hey = \"\"\" Hey, dear How are you\n",
    "doing whats up\n",
    "\"\"\"\n",
    "hey"
   ]
  },
  {
   "cell_type": "code",
   "execution_count": 3,
   "id": "c4bda248",
   "metadata": {},
   "outputs": [
    {
     "name": "stdout",
     "output_type": "stream",
     "text": [
      "38\n"
     ]
    }
   ],
   "source": [
    "print(len(hey))"
   ]
  },
  {
   "cell_type": "code",
   "execution_count": 4,
   "id": "a5454d27",
   "metadata": {},
   "outputs": [],
   "source": [
    "# print every characters"
   ]
  },
  {
   "cell_type": "code",
   "execution_count": 8,
   "id": "bcbabeaf",
   "metadata": {},
   "outputs": [
    {
     "name": "stdout",
     "output_type": "stream",
     "text": [
      "simplilearn"
     ]
    }
   ],
   "source": [
    "str = \"simplilearn\"\n",
    "for i in str:\n",
    "    print(i, end =\"\")"
   ]
  },
  {
   "cell_type": "code",
   "execution_count": 9,
   "id": "6fd1a758",
   "metadata": {},
   "outputs": [],
   "source": [
    "# Slicing"
   ]
  },
  {
   "cell_type": "code",
   "execution_count": 10,
   "id": "e681ee3f",
   "metadata": {},
   "outputs": [
    {
     "name": "stdout",
     "output_type": "stream",
     "text": [
      "simpl\n",
      "simpl\n"
     ]
    }
   ],
   "source": [
    "print(str[0:5]) # or\n",
    "print(str[:5])"
   ]
  },
  {
   "cell_type": "code",
   "execution_count": 11,
   "id": "9cd3ceb4",
   "metadata": {},
   "outputs": [
    {
     "name": "stdout",
     "output_type": "stream",
     "text": [
      "ilearn\n"
     ]
    }
   ],
   "source": [
    "print(str[5:])"
   ]
  },
  {
   "cell_type": "code",
   "execution_count": 12,
   "id": "dd3fcc9c",
   "metadata": {},
   "outputs": [
    {
     "name": "stdout",
     "output_type": "stream",
     "text": [
      "mpl\n"
     ]
    }
   ],
   "source": [
    "print(str[2:5])"
   ]
  },
  {
   "cell_type": "code",
   "execution_count": 13,
   "id": "78515394",
   "metadata": {},
   "outputs": [],
   "source": [
    "#Built in functions"
   ]
  },
  {
   "cell_type": "code",
   "execution_count": 14,
   "id": "b700c52a",
   "metadata": {},
   "outputs": [
    {
     "data": {
      "text/plain": [
       "'WELCOME TO SIMPLILEARN'"
      ]
     },
     "execution_count": 14,
     "metadata": {},
     "output_type": "execute_result"
    }
   ],
   "source": [
    "str = \"Welcome to simplilearn\"\n",
    "str.upper()"
   ]
  },
  {
   "cell_type": "code",
   "execution_count": 15,
   "id": "6c4174dd",
   "metadata": {},
   "outputs": [
    {
     "data": {
      "text/plain": [
       "'welcome to simplilearn'"
      ]
     },
     "execution_count": 15,
     "metadata": {},
     "output_type": "execute_result"
    }
   ],
   "source": [
    "str.lower()"
   ]
  },
  {
   "cell_type": "code",
   "execution_count": 16,
   "id": "4aa634fa",
   "metadata": {},
   "outputs": [
    {
     "data": {
      "text/plain": [
       "'Welcome to simplilearn'"
      ]
     },
     "execution_count": 16,
     "metadata": {},
     "output_type": "execute_result"
    }
   ],
   "source": [
    "str.find((\"s\"))\n",
    "str"
   ]
  },
  {
   "cell_type": "code",
   "execution_count": 17,
   "id": "6baa9c64",
   "metadata": {},
   "outputs": [
    {
     "data": {
      "text/plain": [
       "'Welcome to simplilearn'"
      ]
     },
     "execution_count": 17,
     "metadata": {},
     "output_type": "execute_result"
    }
   ],
   "source": [
    "str.index(\"s\")\n",
    "str"
   ]
  },
  {
   "cell_type": "code",
   "execution_count": 18,
   "id": "17d03b24",
   "metadata": {},
   "outputs": [
    {
     "name": "stdout",
     "output_type": "stream",
     "text": [
      "11\n"
     ]
    }
   ],
   "source": [
    "print(str.find(\"s\"))"
   ]
  },
  {
   "cell_type": "code",
   "execution_count": 19,
   "id": "8c6ff7ee",
   "metadata": {},
   "outputs": [
    {
     "name": "stdout",
     "output_type": "stream",
     "text": [
      "11\n"
     ]
    }
   ],
   "source": [
    "print(str.index(\"s\"))"
   ]
  },
  {
   "cell_type": "code",
   "execution_count": 20,
   "id": "8046d5ee",
   "metadata": {},
   "outputs": [
    {
     "name": "stdout",
     "output_type": "stream",
     "text": [
      "['Welcome', 'to', 'simplilearn']\n"
     ]
    }
   ],
   "source": [
    "print(str.split(\" \"))"
   ]
  },
  {
   "cell_type": "code",
   "execution_count": 21,
   "id": "10caff5c",
   "metadata": {},
   "outputs": [],
   "source": [
    "# replace"
   ]
  },
  {
   "cell_type": "code",
   "execution_count": 22,
   "id": "6b066c1c",
   "metadata": {},
   "outputs": [
    {
     "data": {
      "text/plain": [
       "'Welcome to simplilearn'"
      ]
     },
     "execution_count": 22,
     "metadata": {},
     "output_type": "execute_result"
    }
   ],
   "source": [
    "str.replace(\"simplilearn\", \"Python Toturial\")\n",
    "str"
   ]
  },
  {
   "cell_type": "code",
   "execution_count": 23,
   "id": "03e50dea",
   "metadata": {},
   "outputs": [
    {
     "name": "stdout",
     "output_type": "stream",
     "text": [
      "Python Toturial\n"
     ]
    }
   ],
   "source": [
    "print(str.replace(\"Welcome to simplilearn\", \"Python Toturial\"))"
   ]
  },
  {
   "cell_type": "code",
   "execution_count": 24,
   "id": "e0b47658",
   "metadata": {},
   "outputs": [
    {
     "name": "stdout",
     "output_type": "stream",
     "text": [
      "('Welcome', ' to ', 'simplilearn')\n"
     ]
    }
   ],
   "source": [
    "print(str.rpartition(\" to \"))"
   ]
  },
  {
   "cell_type": "code",
   "execution_count": 25,
   "id": "5f7807ab",
   "metadata": {},
   "outputs": [],
   "source": [
    "# Cancatenations"
   ]
  },
  {
   "cell_type": "code",
   "execution_count": 30,
   "id": "862b8679",
   "metadata": {},
   "outputs": [],
   "source": [
    "str1 = \"Good\"\n",
    "str2 = \"Morning\"\n",
    "str = str1 + \" \" + str2"
   ]
  },
  {
   "cell_type": "code",
   "execution_count": 31,
   "id": "e3abde79",
   "metadata": {},
   "outputs": [
    {
     "name": "stdout",
     "output_type": "stream",
     "text": [
      "Good Morning\n"
     ]
    }
   ],
   "source": [
    "print(str)"
   ]
  },
  {
   "cell_type": "code",
   "execution_count": 32,
   "id": "cdf89d9d",
   "metadata": {},
   "outputs": [
    {
     "name": "stdout",
     "output_type": "stream",
     "text": [
      "Hey There, all!\n"
     ]
    }
   ],
   "source": [
    "str1 = \"Hey\"\n",
    "str2 = \"There\"\n",
    "str3 = \"all\"\n",
    "str = \"{} {}, {}!\".format(str1, str2, str3)\n",
    "print(str)\n"
   ]
  },
  {
   "cell_type": "code",
   "execution_count": null,
   "id": "70e157b4",
   "metadata": {},
   "outputs": [],
   "source": []
  }
 ],
 "metadata": {
  "kernelspec": {
   "display_name": "Python 3 (ipykernel)",
   "language": "python",
   "name": "python3"
  },
  "language_info": {
   "codemirror_mode": {
    "name": "ipython",
    "version": 3
   },
   "file_extension": ".py",
   "mimetype": "text/x-python",
   "name": "python",
   "nbconvert_exporter": "python",
   "pygments_lexer": "ipython3",
   "version": "3.11.5"
  }
 },
 "nbformat": 4,
 "nbformat_minor": 5
}
