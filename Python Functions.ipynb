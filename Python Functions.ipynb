{
 "cells": [
  {
   "cell_type": "code",
   "execution_count": 1,
   "id": "f029e6b7",
   "metadata": {},
   "outputs": [
    {
     "name": "stdout",
     "output_type": "stream",
     "text": [
      "Hello welcome\n"
     ]
    }
   ],
   "source": [
    "def welcome():\n",
    "    print(\"Hello welcome\")\n",
    "    \n",
    "welcome()"
   ]
  },
  {
   "cell_type": "code",
   "execution_count": 12,
   "id": "022e00fe",
   "metadata": {},
   "outputs": [
    {
     "name": "stdout",
     "output_type": "stream",
     "text": [
      "a:2  b:6\n",
      "The sum is: 8\n",
      "a:23  b:4\n",
      "The sum is: 27\n"
     ]
    }
   ],
   "source": [
    "def add(a,b):\n",
    "    total = a + b\n",
    "    print(\"a:%d  b:%d\" %(a,b))\n",
    "    print(\"The sum is:\", total)\n",
    "    \n",
    "add(2,6)\n",
    "# or\n",
    "x = 23\n",
    "y = 4\n",
    "add(x,y)"
   ]
  },
  {
   "cell_type": "code",
   "execution_count": null,
   "id": "92923a0c",
   "metadata": {},
   "outputs": [],
   "source": [
    "# what if b is frist parameter and a is second in this case we use functions parametner assignment"
   ]
  },
  {
   "cell_type": "code",
   "execution_count": 13,
   "id": "a8dcfbf7",
   "metadata": {},
   "outputs": [
    {
     "name": "stdout",
     "output_type": "stream",
     "text": [
      "a:6  b:2\n",
      "The sum is: 8\n",
      "a:4  b:23\n",
      "The sum is: 27\n"
     ]
    }
   ],
   "source": [
    "def add(b, a):\n",
    "    total = a + b\n",
    "    print(\"a:%d  b:%d\" %(a,b))\n",
    "    print(\"The sum is:\", total)\n",
    "    \n",
    "add(b = 2,a=6)\n",
    "# or\n",
    "x = 23\n",
    "y = 4\n",
    "add(x,y)"
   ]
  },
  {
   "cell_type": "code",
   "execution_count": 15,
   "id": "b05c510d",
   "metadata": {},
   "outputs": [
    {
     "name": "stdout",
     "output_type": "stream",
     "text": [
      "a:2  b:0\n",
      "The sum is: 2\n"
     ]
    }
   ],
   "source": [
    "# what if we have added one parameter result\n",
    "def add(a=0,b=0):\n",
    "    total = a + b\n",
    "    print(\"a:%d  b:%d\" %(a,b))\n",
    "    print(\"The sum is:\", total)\n",
    "    \n",
    "add(2) # only one parameter added"
   ]
  },
  {
   "cell_type": "code",
   "execution_count": 16,
   "id": "b8803e3b",
   "metadata": {},
   "outputs": [
    {
     "name": "stdout",
     "output_type": "stream",
     "text": [
      "The sum is 10\n",
      "The sum is 33\n",
      "The sum is 78\n",
      "The sum is 154\n",
      "The sum is 166\n",
      "The sum is 189\n"
     ]
    }
   ],
   "source": [
    "# what if we havea list of numbers then use *\n",
    "\n",
    "def add(*a):\n",
    "    total = 0\n",
    "    for i in a:\n",
    "        total = total + i\n",
    "        print(\"The sum is\", total)\n",
    "        \n",
    "add(10,23,45,76,12,23)"
   ]
  },
  {
   "cell_type": "code",
   "execution_count": 17,
   "id": "e05362dc",
   "metadata": {},
   "outputs": [
    {
     "name": "stdout",
     "output_type": "stream",
     "text": [
      "The sum is 34\n"
     ]
    }
   ],
   "source": [
    "add(34)"
   ]
  },
  {
   "cell_type": "code",
   "execution_count": 18,
   "id": "b848f729",
   "metadata": {},
   "outputs": [
    {
     "name": "stdout",
     "output_type": "stream",
     "text": [
      "The sum is 34\n",
      "The sum is 46\n"
     ]
    }
   ],
   "source": [
    "add(34,12)"
   ]
  },
  {
   "cell_type": "code",
   "execution_count": 23,
   "id": "06bd16e2",
   "metadata": {},
   "outputs": [
    {
     "name": "stdout",
     "output_type": "stream",
     "text": [
      "140709760504968 140709760505320\n",
      "140709760504968 140709760505320\n",
      "140709760504616 140709760504680\n",
      "The sum is:  4\n",
      "The sum is: 35\n"
     ]
    }
   ],
   "source": [
    "# what if we have assigned the value of a and b\n",
    "\n",
    "def add(a,b):\n",
    "    print(id(a), id(b))\n",
    "    a = 1\n",
    "    b = 3\n",
    "    print(id(a), id(b))\n",
    "    total = a + b\n",
    "    print(\"The sum is: \", total)\n",
    "    \n",
    "x = 12\n",
    "y = 23\n",
    "print(id(x), id(y))\n",
    "add(x, y)\n",
    "print(\"The sum is:\", x+y)"
   ]
  },
  {
   "cell_type": "code",
   "execution_count": 24,
   "id": "c329bc3a",
   "metadata": {},
   "outputs": [
    {
     "name": "stdout",
     "output_type": "stream",
     "text": [
      "The sum is 7\n"
     ]
    }
   ],
   "source": [
    "# use return inside the function\n",
    "\n",
    "def add(a,b):\n",
    "    total = a + b\n",
    "    return total\n",
    "\n",
    "result = add(3,4)\n",
    "print(\"The sum is\", result)"
   ]
  },
  {
   "cell_type": "code",
   "execution_count": null,
   "id": "19ce6d0a",
   "metadata": {},
   "outputs": [],
   "source": []
  }
 ],
 "metadata": {
  "kernelspec": {
   "display_name": "Python 3 (ipykernel)",
   "language": "python",
   "name": "python3"
  },
  "language_info": {
   "codemirror_mode": {
    "name": "ipython",
    "version": 3
   },
   "file_extension": ".py",
   "mimetype": "text/x-python",
   "name": "python",
   "nbconvert_exporter": "python",
   "pygments_lexer": "ipython3",
   "version": "3.11.5"
  }
 },
 "nbformat": 4,
 "nbformat_minor": 5
}
