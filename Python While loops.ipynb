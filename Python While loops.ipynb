{
 "cells": [
  {
   "cell_type": "markdown",
   "id": "54babad9",
   "metadata": {},
   "source": [
    "# Print Simplilearn 10 times by increment"
   ]
  },
  {
   "cell_type": "code",
   "execution_count": 1,
   "id": "0f3316db",
   "metadata": {},
   "outputs": [
    {
     "name": "stdout",
     "output_type": "stream",
     "text": [
      "SimpliLearn\n",
      "SimpliLearn\n",
      "SimpliLearn\n",
      "SimpliLearn\n",
      "SimpliLearn\n",
      "SimpliLearn\n",
      "SimpliLearn\n",
      "SimpliLearn\n",
      "SimpliLearn\n",
      "SimpliLearn\n"
     ]
    }
   ],
   "source": [
    "i = 1\n",
    "while i <= 10:\n",
    "    print(\"SimpliLearn\")\n",
    "    i += 1"
   ]
  },
  {
   "cell_type": "markdown",
   "id": "95119520",
   "metadata": {},
   "source": [
    "# Print SimpliLearn 10 times by decrement or likewise"
   ]
  },
  {
   "cell_type": "code",
   "execution_count": 2,
   "id": "b36acd49",
   "metadata": {},
   "outputs": [
    {
     "name": "stdout",
     "output_type": "stream",
     "text": [
      "SimpliLearn\n",
      "SimpliLearn\n",
      "SimpliLearn\n",
      "SimpliLearn\n",
      "SimpliLearn\n",
      "SimpliLearn\n",
      "SimpliLearn\n",
      "SimpliLearn\n",
      "SimpliLearn\n",
      "SimpliLearn\n"
     ]
    }
   ],
   "source": [
    "# OR IN Numbers\n",
    "i = 10\n",
    "while i >= 1:\n",
    "    print(\"SimpliLearn\")\n",
    "    i -= 1"
   ]
  },
  {
   "cell_type": "code",
   "execution_count": 3,
   "id": "9908d6d1",
   "metadata": {},
   "outputs": [
    {
     "name": "stdout",
     "output_type": "stream",
     "text": [
      "1\n",
      "2\n",
      "3\n",
      "4\n",
      "5\n",
      "6\n",
      "7\n",
      "8\n",
      "9\n",
      "10\n"
     ]
    }
   ],
   "source": [
    "i = 1\n",
    "while i <= 10:\n",
    "    print(i)\n",
    "    i += 1"
   ]
  },
  {
   "cell_type": "code",
   "execution_count": 4,
   "id": "d02718d5",
   "metadata": {},
   "outputs": [
    {
     "name": "stdout",
     "output_type": "stream",
     "text": [
      "10\n",
      "9\n",
      "8\n",
      "7\n",
      "6\n",
      "5\n",
      "4\n",
      "3\n",
      "2\n",
      "1\n"
     ]
    }
   ],
   "source": [
    "# no likewise\n",
    "i = 10\n",
    "while i >= 1:\n",
    "    print(i)\n",
    "    i -= 1"
   ]
  },
  {
   "cell_type": "markdown",
   "id": "d8c02b6e",
   "metadata": {},
   "source": [
    "# Find the nutural numbers"
   ]
  },
  {
   "cell_type": "code",
   "execution_count": 5,
   "id": "ba305af3",
   "metadata": {},
   "outputs": [
    {
     "name": "stdout",
     "output_type": "stream",
     "text": [
      "55\n"
     ]
    }
   ],
   "source": [
    "# find sum of 1+2+3+4+5+6+7+8+9+10=? 55\n",
    "i = 1\n",
    "sum = 0\n",
    "while i <= 10:\n",
    "    sum = sum + i\n",
    "    i += 1\n",
    "print(sum)"
   ]
  },
  {
   "cell_type": "code",
   "execution_count": 6,
   "id": "70602a8c",
   "metadata": {},
   "outputs": [
    {
     "name": "stdout",
     "output_type": "stream",
     "text": [
      "30\n"
     ]
    }
   ],
   "source": [
    "# Find the sum of all even numbers 1+2+3+4+5+6+7+8+9+10=? 30\n",
    "i = 1\n",
    "sum = 0\n",
    "while i <=10:\n",
    "    if i%2 == 0:\n",
    "        sum = sum + i\n",
    "    i += 1\n",
    "print(sum)"
   ]
  },
  {
   "cell_type": "code",
   "execution_count": 7,
   "id": "7b0bb46d",
   "metadata": {},
   "outputs": [
    {
     "name": "stdout",
     "output_type": "stream",
     "text": [
      "25\n"
     ]
    }
   ],
   "source": [
    "# Find the sum of all odd numbers 1+2+3+4+5+6+7+8+9+10=? 25\n",
    "i = 1\n",
    "sum = 0\n",
    "while i <=10:\n",
    "    if i%2 !=0:\n",
    "        sum = sum + i\n",
    "    i += 1\n",
    "print(sum)"
   ]
  },
  {
   "cell_type": "code",
   "execution_count": 11,
   "id": "a934e1e2",
   "metadata": {},
   "outputs": [
    {
     "name": "stdout",
     "output_type": "stream",
     "text": [
      "Enter a number 123\n",
      "321\n"
     ]
    }
   ],
   "source": [
    "# Write a program to reverse a number for example 123 should be 321\n",
    "\n",
    "n = int(input(\"Enter a number \"))\n",
    "nr = 0\n",
    "while n%10 != 0:\n",
    "    c =n%10\n",
    "    nr = nr*10 + c\n",
    "    n = n // 10\n",
    "print(nr)"
   ]
  },
  {
   "cell_type": "code",
   "execution_count": 12,
   "id": "198f79a3",
   "metadata": {},
   "outputs": [
    {
     "ename": "IndexError",
     "evalue": "list index out of range",
     "output_type": "error",
     "traceback": [
      "\u001b[1;31m---------------------------------------------------------------------------\u001b[0m",
      "\u001b[1;31mIndexError\u001b[0m                                Traceback (most recent call last)",
      "Cell \u001b[1;32mIn[12], line 6\u001b[0m\n\u001b[0;32m      4\u001b[0m length \u001b[38;5;241m=\u001b[39m \u001b[38;5;241m0\u001b[39m\n\u001b[0;32m      5\u001b[0m i \u001b[38;5;241m=\u001b[39m \u001b[38;5;241m0\u001b[39m\n\u001b[1;32m----> 6\u001b[0m \u001b[38;5;28;01mwhile\u001b[39;00m x[i]:\n\u001b[0;32m      7\u001b[0m     length \u001b[38;5;241m+\u001b[39m\u001b[38;5;241m=\u001b[39m i\n\u001b[0;32m      8\u001b[0m     i \u001b[38;5;241m+\u001b[39m\u001b[38;5;241m=\u001b[39m \u001b[38;5;241m1\u001b[39m\n",
      "\u001b[1;31mIndexError\u001b[0m: list index out of range"
     ]
    }
   ],
   "source": [
    "# Find the length of a list with while loop\n",
    "\n",
    "x = [1,2.3,\"Simplilearn\"]\n",
    "length = 0\n",
    "i = 0\n",
    "while x[i]:\n",
    "    length += i\n",
    "    i += 1\n",
    "print(length)"
   ]
  },
  {
   "cell_type": "code",
   "execution_count": 14,
   "id": "a1606e6d",
   "metadata": {},
   "outputs": [
    {
     "name": "stdout",
     "output_type": "stream",
     "text": [
      "3\n"
     ]
    }
   ],
   "source": [
    "# so to fix the abovve error we shoukkd use try catch block\n",
    "\n",
    "x = [1,2.3,\"Simplilearn\"]\n",
    "length = 0\n",
    "i = 0\n",
    "try:\n",
    "    while x[i]:\n",
    "        length += 1\n",
    "        i += 1\n",
    "except IndexError:\n",
    "    print(length)\n",
    "    "
   ]
  },
  {
   "cell_type": "code",
   "execution_count": 17,
   "id": "cec98db9",
   "metadata": {},
   "outputs": [
    {
     "name": "stdout",
     "output_type": "stream",
     "text": [
      "Enter a number7\n",
      "1\n",
      "22\n",
      "333\n",
      "4444\n",
      "55555\n",
      "666666\n",
      "7777777\n"
     ]
    }
   ],
   "source": [
    "# While loop nested inside another loop\n",
    "#1\n",
    "#22\n",
    "#333\n",
    "#4444\n",
    "#55555\n",
    "n = int(input(\"Enter a number\"))\n",
    "i = 1\n",
    "while i <= n:\n",
    "    j =1\n",
    "    while j <= i:\n",
    "        print(i, end = \"\")\n",
    "        j += 1\n",
    "    i+= 1\n",
    "    print()"
   ]
  },
  {
   "cell_type": "code",
   "execution_count": 18,
   "id": "d32863d3",
   "metadata": {},
   "outputs": [],
   "source": [
    "# User Guesses a number"
   ]
  },
  {
   "cell_type": "code",
   "execution_count": 20,
   "id": "a3edee5b",
   "metadata": {},
   "outputs": [
    {
     "name": "stdout",
     "output_type": "stream",
     "text": [
      "5878\n",
      "Enter a numer3345\n",
      "%d digits were gueesed right\n",
      "Enter a numer3456\n",
      "%d digits were gueesed right\n",
      "Enter a numer1234\n",
      "%d digits were gueesed right\n",
      "Enter a numer5878\n",
      "Congrates you guessed it right\n"
     ]
    }
   ],
   "source": [
    "import random\n",
    "nump = random.randint(1000,9999)\n",
    "print(nump)\n",
    "n = int(input(\"Enter a numer\"))\n",
    "while n!= 10:\n",
    "    num = nump\n",
    "    cor = 0\n",
    "    while num%10:\n",
    "        numc = num%10\n",
    "        nc = n%10\n",
    "        num = num//10\n",
    "        n = n//10\n",
    "        if numc == nc:\n",
    "            cor += 1\n",
    "    if cor == 4:\n",
    "        print(\"Congrates you guessed it right\")\n",
    "        break\n",
    "    else:\n",
    "        print(\"%d digits were gueesed right\")\n",
    "        n = int(input(\"Enter a numer\"))\n",
    "else: \n",
    "    print(\"You quit the game\")"
   ]
  },
  {
   "cell_type": "code",
   "execution_count": null,
   "id": "0b17a235",
   "metadata": {},
   "outputs": [],
   "source": []
  },
  {
   "cell_type": "code",
   "execution_count": null,
   "id": "eb39ff55",
   "metadata": {},
   "outputs": [],
   "source": []
  }
 ],
 "metadata": {
  "kernelspec": {
   "display_name": "Python 3 (ipykernel)",
   "language": "python",
   "name": "python3"
  },
  "language_info": {
   "codemirror_mode": {
    "name": "ipython",
    "version": 3
   },
   "file_extension": ".py",
   "mimetype": "text/x-python",
   "name": "python",
   "nbconvert_exporter": "python",
   "pygments_lexer": "ipython3",
   "version": "3.11.5"
  }
 },
 "nbformat": 4,
 "nbformat_minor": 5
}
