{
 "cells": [
  {
   "cell_type": "code",
   "execution_count": 10,
   "id": "b85d0245",
   "metadata": {},
   "outputs": [
    {
     "name": "stdout",
     "output_type": "stream",
     "text": [
      "array('i', [-1, 2, 3, 4, 5])\n"
     ]
    }
   ],
   "source": [
    "from array import *\n",
    "arr = array(\"i\",[-1,2,3,4,5])\n",
    "print(arr)"
   ]
  },
  {
   "cell_type": "code",
   "execution_count": 11,
   "id": "1f88c0c3",
   "metadata": {},
   "outputs": [
    {
     "name": "stdout",
     "output_type": "stream",
     "text": [
      "(3114740316464, 5)\n"
     ]
    }
   ],
   "source": [
    "print(arr.buffer_info())"
   ]
  },
  {
   "cell_type": "code",
   "execution_count": 12,
   "id": "4f37ec67",
   "metadata": {},
   "outputs": [
    {
     "name": "stdout",
     "output_type": "stream",
     "text": [
      "3\n"
     ]
    }
   ],
   "source": [
    "print(arr[2])"
   ]
  },
  {
   "cell_type": "code",
   "execution_count": 13,
   "id": "1498d0a1",
   "metadata": {},
   "outputs": [
    {
     "name": "stdout",
     "output_type": "stream",
     "text": [
      "-1\n",
      "2\n",
      "3\n",
      "4\n",
      "5\n"
     ]
    }
   ],
   "source": [
    "for i in arr:\n",
    "    print(i)"
   ]
  },
  {
   "cell_type": "code",
   "execution_count": 16,
   "id": "1f80081d",
   "metadata": {},
   "outputs": [
    {
     "name": "stdout",
     "output_type": "stream",
     "text": [
      "0 -1\n",
      "1 2\n",
      "2 3\n",
      "3 4\n",
      "4 5\n"
     ]
    }
   ],
   "source": [
    "for pnt in range(5):\n",
    "    print(pnt,arr[pnt])"
   ]
  },
  {
   "cell_type": "code",
   "execution_count": 17,
   "id": "2da62f1f",
   "metadata": {},
   "outputs": [
    {
     "name": "stdout",
     "output_type": "stream",
     "text": [
      "1 2\n",
      "2 3\n",
      "3 4\n"
     ]
    }
   ],
   "source": [
    "for pnt in range(1, 4):\n",
    "    print(pnt,arr[pnt])"
   ]
  },
  {
   "cell_type": "code",
   "execution_count": 18,
   "id": "ead1dbdf",
   "metadata": {},
   "outputs": [
    {
     "name": "stdout",
     "output_type": "stream",
     "text": [
      "array('i', [5, 4, 3, 2, -1])\n"
     ]
    }
   ],
   "source": [
    "arr.reverse()\n",
    "print(arr)"
   ]
  },
  {
   "cell_type": "code",
   "execution_count": 19,
   "id": "323ecac2",
   "metadata": {},
   "outputs": [],
   "source": [
    "arr.append(10)"
   ]
  },
  {
   "cell_type": "code",
   "execution_count": 20,
   "id": "16eba10a",
   "metadata": {},
   "outputs": [
    {
     "data": {
      "text/plain": [
       "array('i', [5, 4, 3, 2, -1, 10])"
      ]
     },
     "execution_count": 20,
     "metadata": {},
     "output_type": "execute_result"
    }
   ],
   "source": [
    "arr"
   ]
  },
  {
   "cell_type": "code",
   "execution_count": 21,
   "id": "ab537215",
   "metadata": {},
   "outputs": [],
   "source": [
    "arr.remove(2)"
   ]
  },
  {
   "cell_type": "code",
   "execution_count": 22,
   "id": "30c235eb",
   "metadata": {},
   "outputs": [
    {
     "data": {
      "text/plain": [
       "array('i', [5, 4, 3, -1, 10])"
      ]
     },
     "execution_count": 22,
     "metadata": {},
     "output_type": "execute_result"
    }
   ],
   "source": [
    "arr"
   ]
  },
  {
   "cell_type": "code",
   "execution_count": 23,
   "id": "f7df6979",
   "metadata": {},
   "outputs": [],
   "source": [
    "# what if we have duplicates like 2 so it only removes the first 2 we have to remove one by one \n",
    "arr = array(\"i\",[-1,2,2,3,4,5])\n"
   ]
  },
  {
   "cell_type": "code",
   "execution_count": 24,
   "id": "e5ea98c7",
   "metadata": {},
   "outputs": [
    {
     "data": {
      "text/plain": [
       "array('i', [-1, 2, 2, 3, 4, 5])"
      ]
     },
     "execution_count": 24,
     "metadata": {},
     "output_type": "execute_result"
    }
   ],
   "source": [
    "arr"
   ]
  },
  {
   "cell_type": "code",
   "execution_count": 25,
   "id": "5612ca76",
   "metadata": {},
   "outputs": [],
   "source": [
    "arr.remove(2)"
   ]
  },
  {
   "cell_type": "code",
   "execution_count": 26,
   "id": "48c14abb",
   "metadata": {},
   "outputs": [
    {
     "data": {
      "text/plain": [
       "array('i', [-1, 2, 3, 4, 5])"
      ]
     },
     "execution_count": 26,
     "metadata": {},
     "output_type": "execute_result"
    }
   ],
   "source": [
    "arr"
   ]
  },
  {
   "cell_type": "code",
   "execution_count": 27,
   "id": "91941542",
   "metadata": {},
   "outputs": [
    {
     "data": {
      "text/plain": [
       "4"
      ]
     },
     "execution_count": 27,
     "metadata": {},
     "output_type": "execute_result"
    }
   ],
   "source": [
    "arr[3]"
   ]
  },
  {
   "cell_type": "code",
   "execution_count": 28,
   "id": "6dbb746b",
   "metadata": {},
   "outputs": [
    {
     "data": {
      "text/plain": [
       "3"
      ]
     },
     "execution_count": 28,
     "metadata": {},
     "output_type": "execute_result"
    }
   ],
   "source": [
    "arr.index(4)"
   ]
  },
  {
   "cell_type": "code",
   "execution_count": 31,
   "id": "fc681a55",
   "metadata": {},
   "outputs": [
    {
     "name": "stdout",
     "output_type": "stream",
     "text": [
      "3\n",
      "1\n"
     ]
    }
   ],
   "source": [
    "print(arr[2])\n",
    "print(arr.index(2))"
   ]
  },
  {
   "cell_type": "code",
   "execution_count": 32,
   "id": "80fc5031",
   "metadata": {},
   "outputs": [],
   "source": [
    "# Second e4example"
   ]
  },
  {
   "cell_type": "code",
   "execution_count": 34,
   "id": "c8818eac",
   "metadata": {},
   "outputs": [
    {
     "name": "stdout",
     "output_type": "stream",
     "text": [
      "Enter size of the array5\n",
      "Enter 5 elements\n",
      "1\n",
      "2\n",
      "3\n",
      "4\n",
      "5\n",
      "array('i', [1, 2, 3, 4, 5])\n"
     ]
    }
   ],
   "source": [
    "from array import *\n",
    "arr = array(\"i\", [])\n",
    "x = int(input(\"Enter size of the array\"))\n",
    "print(\"Enter %d elements\" %x)\n",
    "for i in range(x):\n",
    "    n =int(input())\n",
    "    arr.append(n)\n",
    "print(arr)"
   ]
  },
  {
   "cell_type": "code",
   "execution_count": null,
   "id": "76e134a5",
   "metadata": {},
   "outputs": [],
   "source": []
  }
 ],
 "metadata": {
  "kernelspec": {
   "display_name": "Python 3 (ipykernel)",
   "language": "python",
   "name": "python3"
  },
  "language_info": {
   "codemirror_mode": {
    "name": "ipython",
    "version": 3
   },
   "file_extension": ".py",
   "mimetype": "text/x-python",
   "name": "python",
   "nbconvert_exporter": "python",
   "pygments_lexer": "ipython3",
   "version": "3.11.5"
  }
 },
 "nbformat": 4,
 "nbformat_minor": 5
}
