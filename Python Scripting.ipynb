{
 "cells": [
  {
   "cell_type": "code",
   "execution_count": 2,
   "id": "046449df",
   "metadata": {},
   "outputs": [
    {
     "name": "stdout",
     "output_type": "stream",
     "text": [
      "C:\\Users\\Parwin Rahayee\n",
      "C:\\Users\\Parwin Rahayee\\sample.txt\n"
     ]
    }
   ],
   "source": [
    "import os\n",
    "\n",
    "def current_directory():\n",
    "    cwd = os.getcwd()\n",
    "    print(cwd)\n",
    "    \n",
    "def file_path(filename):\n",
    "    path = os.path.abspath((filename))\n",
    "    print(path)\n",
    "    \n",
    "current_directory()\n",
    "filename = \"sample.txt\"\n",
    "file_path(filename)"
   ]
  },
  {
   "cell_type": "code",
   "execution_count": 3,
   "id": "4491412d",
   "metadata": {},
   "outputs": [
    {
     "name": "stdout",
     "output_type": "stream",
     "text": [
      "1699294423.0147479\n",
      "time.struct_time(tm_year=2023, tm_mon=11, tm_mday=6, tm_hour=19, tm_min=13, tm_sec=43, tm_wday=0, tm_yday=310, tm_isdst=0)\n",
      "2023\n",
      "Mon Nov  6 19:13:43 2023\n"
     ]
    }
   ],
   "source": [
    "import time\n",
    "epc = time.time()\n",
    "print(epc)\n",
    "localtime = time.localtime(epc)\n",
    "print(localtime)\n",
    "print(localtime.tm_year)\n",
    "\n",
    "print(time.ctime(epc))"
   ]
  },
  {
   "cell_type": "code",
   "execution_count": 6,
   "id": "e8ef851f",
   "metadata": {},
   "outputs": [
    {
     "name": "stdout",
     "output_type": "stream",
     "text": [
      "File Created\n"
     ]
    }
   ],
   "source": [
    "from os import path\n",
    "\n",
    "def createFile(dest):\n",
    "    if not(path.isfile(dest)):\n",
    "        f = open(dest,\"w\")\n",
    "        f.write(\"Welcome to Python Scripting\")\n",
    "        f.close()\n",
    "dest = \"C:\\\\Users\\\\Parwin Rahayee\\\\Desktop\\\\Python_Scripts\\\\sample.txt\"\n",
    "\n",
    "createFile(dest)\n",
    "print(\"File Created\")"
   ]
  },
  {
   "cell_type": "code",
   "execution_count": 9,
   "id": "535db529",
   "metadata": {},
   "outputs": [
    {
     "ename": "SMTPAuthenticationError",
     "evalue": "(535, b'5.7.8 Username and Password not accepted. Learn more at\\n5.7.8  https://support.google.com/mail/?p=BadCredentials n3-20020a170906724300b009ddc90505desm161177ejk.141 - gsmtp')",
     "output_type": "error",
     "traceback": [
      "\u001b[1;31m---------------------------------------------------------------------------\u001b[0m",
      "\u001b[1;31mSMTPAuthenticationError\u001b[0m                   Traceback (most recent call last)",
      "Cell \u001b[1;32mIn[9], line 7\u001b[0m\n\u001b[0;32m      5\u001b[0m smtpobj\u001b[38;5;241m.\u001b[39mehlo()\n\u001b[0;32m      6\u001b[0m smtpobj\u001b[38;5;241m.\u001b[39mstarttls()\n\u001b[1;32m----> 7\u001b[0m smtpobj\u001b[38;5;241m.\u001b[39mlogin(\u001b[38;5;124m\"\u001b[39m\u001b[38;5;124mfromEmail\u001b[39m\u001b[38;5;124m\"\u001b[39m, \u001b[38;5;124m\"\u001b[39m\u001b[38;5;124mEmailpassword\u001b[39m\u001b[38;5;124m\"\u001b[39m)\n\u001b[0;32m      8\u001b[0m smtpobj\u001b[38;5;241m.\u001b[39msendmail(\u001b[38;5;124m\"\u001b[39m\u001b[38;5;124mfromEmail\u001b[39m\u001b[38;5;124m\"\u001b[39m,\u001b[38;5;124m\"\u001b[39m\u001b[38;5;124mToEmail\u001b[39m\u001b[38;5;124m\"\u001b[39m,\u001b[38;5;124m\"\u001b[39m\u001b[38;5;124mSubject: SMTP check. \u001b[39m\u001b[38;5;130;01m\\n\u001b[39;00m\u001b[38;5;124m this is a test email\u001b[39m\u001b[38;5;124m\"\u001b[39m)\n\u001b[0;32m      9\u001b[0m smtpobj\u001b[38;5;241m.\u001b[39mquite()\n",
      "File \u001b[1;32m~\\anaconda3\\Lib\\smtplib.py:750\u001b[0m, in \u001b[0;36mSMTP.login\u001b[1;34m(self, user, password, initial_response_ok)\u001b[0m\n\u001b[0;32m    747\u001b[0m         last_exception \u001b[38;5;241m=\u001b[39m e\n\u001b[0;32m    749\u001b[0m \u001b[38;5;66;03m# We could not login successfully.  Return result of last attempt.\u001b[39;00m\n\u001b[1;32m--> 750\u001b[0m \u001b[38;5;28;01mraise\u001b[39;00m last_exception\n",
      "File \u001b[1;32m~\\anaconda3\\Lib\\smtplib.py:739\u001b[0m, in \u001b[0;36mSMTP.login\u001b[1;34m(self, user, password, initial_response_ok)\u001b[0m\n\u001b[0;32m    737\u001b[0m method_name \u001b[38;5;241m=\u001b[39m \u001b[38;5;124m'\u001b[39m\u001b[38;5;124mauth_\u001b[39m\u001b[38;5;124m'\u001b[39m \u001b[38;5;241m+\u001b[39m authmethod\u001b[38;5;241m.\u001b[39mlower()\u001b[38;5;241m.\u001b[39mreplace(\u001b[38;5;124m'\u001b[39m\u001b[38;5;124m-\u001b[39m\u001b[38;5;124m'\u001b[39m, \u001b[38;5;124m'\u001b[39m\u001b[38;5;124m_\u001b[39m\u001b[38;5;124m'\u001b[39m)\n\u001b[0;32m    738\u001b[0m \u001b[38;5;28;01mtry\u001b[39;00m:\n\u001b[1;32m--> 739\u001b[0m     (code, resp) \u001b[38;5;241m=\u001b[39m \u001b[38;5;28mself\u001b[39m\u001b[38;5;241m.\u001b[39mauth(\n\u001b[0;32m    740\u001b[0m         authmethod, \u001b[38;5;28mgetattr\u001b[39m(\u001b[38;5;28mself\u001b[39m, method_name),\n\u001b[0;32m    741\u001b[0m         initial_response_ok\u001b[38;5;241m=\u001b[39minitial_response_ok)\n\u001b[0;32m    742\u001b[0m     \u001b[38;5;66;03m# 235 == 'Authentication successful'\u001b[39;00m\n\u001b[0;32m    743\u001b[0m     \u001b[38;5;66;03m# 503 == 'Error: already authenticated'\u001b[39;00m\n\u001b[0;32m    744\u001b[0m     \u001b[38;5;28;01mif\u001b[39;00m code \u001b[38;5;129;01min\u001b[39;00m (\u001b[38;5;241m235\u001b[39m, \u001b[38;5;241m503\u001b[39m):\n",
      "File \u001b[1;32m~\\anaconda3\\Lib\\smtplib.py:662\u001b[0m, in \u001b[0;36mSMTP.auth\u001b[1;34m(self, mechanism, authobject, initial_response_ok)\u001b[0m\n\u001b[0;32m    660\u001b[0m \u001b[38;5;28;01mif\u001b[39;00m code \u001b[38;5;129;01min\u001b[39;00m (\u001b[38;5;241m235\u001b[39m, \u001b[38;5;241m503\u001b[39m):\n\u001b[0;32m    661\u001b[0m     \u001b[38;5;28;01mreturn\u001b[39;00m (code, resp)\n\u001b[1;32m--> 662\u001b[0m \u001b[38;5;28;01mraise\u001b[39;00m SMTPAuthenticationError(code, resp)\n",
      "\u001b[1;31mSMTPAuthenticationError\u001b[0m: (535, b'5.7.8 Username and Password not accepted. Learn more at\\n5.7.8  https://support.google.com/mail/?p=BadCredentials n3-20020a170906724300b009ddc90505desm161177ejk.141 - gsmtp')"
     ]
    }
   ],
   "source": [
    "# send email\n",
    "import smtplib\n",
    "\n",
    "smtpobj = smtplib.SMTP(\"smtp.gmail.com\", 587)\n",
    "smtpobj.ehlo()\n",
    "smtpobj.starttls()\n",
    "smtpobj.login(\"fromEmail\", \"Emailpassword\")\n",
    "smtpobj.sendmail(\"fromEmail\",\"ToEmail\",\"Subject: SMTP check. \\n this is a test email\")\n",
    "smtpobj.quite()"
   ]
  },
  {
   "cell_type": "markdown",
   "id": "54f7c3fc",
   "metadata": {},
   "source": [
    "# *args and **kwargs"
   ]
  },
  {
   "cell_type": "code",
   "execution_count": 10,
   "id": "eea00c9b",
   "metadata": {},
   "outputs": [],
   "source": [
    "# *args are used to show all list of numbers and **kwargs are used to show list of lables with numbers "
   ]
  },
  {
   "cell_type": "code",
   "execution_count": 11,
   "id": "92d19646",
   "metadata": {},
   "outputs": [
    {
     "name": "stdout",
     "output_type": "stream",
     "text": [
      "10\n",
      "20\n",
      "30\n",
      "40\n",
      "50\n"
     ]
    }
   ],
   "source": [
    "def func1(*args):\n",
    "    for i in args:\n",
    "        print(i)\n",
    "func1 (10,20,30,40,50)"
   ]
  },
  {
   "cell_type": "code",
   "execution_count": 15,
   "id": "43794797",
   "metadata": {},
   "outputs": [
    {
     "name": "stdout",
     "output_type": "stream",
     "text": [
      "('a', 10)\n",
      "('b', 20)\n",
      "('c', 30)\n",
      "('d', 40)\n"
     ]
    }
   ],
   "source": [
    "def func1(**kwargs):\n",
    "    for i in kwargs.items():\n",
    "        print(i)\n",
    "func1(a = 10, b= 20, c= 30, d= 40)"
   ]
  },
  {
   "cell_type": "code",
   "execution_count": 16,
   "id": "64e6889c",
   "metadata": {},
   "outputs": [],
   "source": [
    "# so **kwargs show only the numbers with labels but args show any type of numbers"
   ]
  },
  {
   "cell_type": "code",
   "execution_count": 17,
   "id": "55a1dfa0",
   "metadata": {},
   "outputs": [
    {
     "name": "stdout",
     "output_type": "stream",
     "text": [
      "nn\n",
      "b\n",
      "34\n"
     ]
    }
   ],
   "source": [
    "def func2(*args):\n",
    "    for i in args:\n",
    "        print(i)\n",
    "func2 (\"nn\",\"b\",\"34\")"
   ]
  },
  {
   "cell_type": "markdown",
   "id": "105f4871",
   "metadata": {},
   "source": [
    "# Nested Functions"
   ]
  },
  {
   "cell_type": "code",
   "execution_count": 18,
   "id": "6380532f",
   "metadata": {},
   "outputs": [
    {
     "name": "stdout",
     "output_type": "stream",
     "text": [
      "11\n"
     ]
    }
   ],
   "source": [
    "def func1():\n",
    "    x = 10\n",
    "    def func2(x):\n",
    "        return x + 1\n",
    "    return func2(x)\n",
    "\n",
    "result = func1()\n",
    "print(result)"
   ]
  },
  {
   "cell_type": "code",
   "execution_count": 19,
   "id": "863d7db2",
   "metadata": {},
   "outputs": [],
   "source": [
    "# why nested functions are important because to know that objects can be called inside a function"
   ]
  },
  {
   "cell_type": "code",
   "execution_count": 21,
   "id": "8cab8ae3",
   "metadata": {},
   "outputs": [
    {
     "name": "stdout",
     "output_type": "stream",
     "text": [
      "This is the first function\n",
      "This is the nested function\n",
      "This is the outer func\n"
     ]
    }
   ],
   "source": [
    "# second \n",
    "\n",
    "def func1(called_func):\n",
    "    print(\"This is the first function\")\n",
    "    def nested_func1(called_func):\n",
    "        print(\"This is the nested function\")\n",
    "        called_func()\n",
    "    return nested_func1(called_func)\n",
    "    \n",
    "def outer_func():\n",
    "    print(\"This is the outer func\")\n",
    "    \n",
    "obj = func1(outer_func)\n"
   ]
  },
  {
   "cell_type": "code",
   "execution_count": null,
   "id": "0a4530ec",
   "metadata": {},
   "outputs": [],
   "source": []
  }
 ],
 "metadata": {
  "kernelspec": {
   "display_name": "Python 3 (ipykernel)",
   "language": "python",
   "name": "python3"
  },
  "language_info": {
   "codemirror_mode": {
    "name": "ipython",
    "version": 3
   },
   "file_extension": ".py",
   "mimetype": "text/x-python",
   "name": "python",
   "nbconvert_exporter": "python",
   "pygments_lexer": "ipython3",
   "version": "3.11.5"
  }
 },
 "nbformat": 4,
 "nbformat_minor": 5
}
