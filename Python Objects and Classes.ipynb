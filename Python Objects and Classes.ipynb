{
 "cells": [
  {
   "cell_type": "code",
   "execution_count": 1,
   "id": "4c2c95ca",
   "metadata": {},
   "outputs": [
    {
     "name": "stdout",
     "output_type": "stream",
     "text": [
      "Hi i am  Tom\n",
      "I am elegible to vote\n"
     ]
    }
   ],
   "source": [
    "class Person:\n",
    "    \n",
    "    def __init__(self):\n",
    "        self.name = \"Tom\"\n",
    "        self.gender = \"male\"\n",
    "        self.age = 20\n",
    "        \n",
    "    def talk(self):\n",
    "        print(\"Hi i am \", self.name)\n",
    "        \n",
    "    def vote(self):\n",
    "        if self.age < 18:\n",
    "            print(\"Iam not elegible to vote\")\n",
    "        else:\n",
    "            print(\"I am elegible to vote\")\n",
    "obj = Person()\n",
    "obj.talk()\n",
    "obj.vote()"
   ]
  },
  {
   "cell_type": "code",
   "execution_count": 2,
   "id": "4504d0df",
   "metadata": {},
   "outputs": [
    {
     "name": "stdout",
     "output_type": "stream",
     "text": [
      "Hi i am  Tom\n",
      "I am elegible to vote\n",
      "Hi i am  John\n",
      "I am not elegible to vote\n"
     ]
    }
   ],
   "source": [
    "# what if we have two objects or more to call then use \n",
    "class Person:\n",
    "    \n",
    "    def __init__(self,n,g,a):\n",
    "        self.name = n\n",
    "        self.gender = g\n",
    "        self.age = a\n",
    "    \n",
    "    def talk(self):\n",
    "        print(\"Hi i am \", self.name)\n",
    "    \n",
    "    def vote(self):\n",
    "        if self.age < 18:\n",
    "            print(\"I am not elegible to vote\")\n",
    "        else: \n",
    "            print(\"I am elegible to vote\")\n",
    "        \n",
    "obj1 = Person(\"Tom\",\"male\", 23)\n",
    "obj2 = Person(\"John\", \"male\", 15)\n",
    "obj1.talk()\n",
    "obj1.vote()\n",
    "obj2.talk()\n",
    "obj2.vote()\n"
   ]
  },
  {
   "cell_type": "code",
   "execution_count": 3,
   "id": "4033b8f9",
   "metadata": {},
   "outputs": [
    {
     "name": "stdout",
     "output_type": "stream",
     "text": [
      "155 mph\n",
      "155 mph\n",
      "155 mph\n",
      "155 mph\n"
     ]
    }
   ],
   "source": [
    "# class car \n",
    "\n",
    "class Car: # Parent class\n",
    "    \n",
    "        def getSpeed(self):\n",
    "            print(\"155 mph\")\n",
    "            \n",
    "# instances created\n",
    "BMW = Car()\n",
    "FORD = Car()\n",
    "Car.getSpeed(BMW)\n",
    "Car.getSpeed(FORD)\n",
    "\n",
    "BMW.getSpeed()\n",
    "FORD.getSpeed()"
   ]
  },
  {
   "cell_type": "code",
   "execution_count": 4,
   "id": "3fe9b69a",
   "metadata": {},
   "outputs": [
    {
     "name": "stdout",
     "output_type": "stream",
     "text": [
      "Maximum speed is 144\n",
      "Maximum speed is 143\n",
      "Maximum speed is 155\n"
     ]
    }
   ],
   "source": [
    "# or \n",
    "# class car\n",
    "\n",
    "class Car:\n",
    "    \n",
    "    def __init__(self, year, speed):\n",
    "        self.year = year\n",
    "        self.speed = speed\n",
    "        \n",
    "    def getSpeed(self):\n",
    "        print(\"Maximum speed is\", self.speed)\n",
    "            \n",
    "    def setSpeed(self,speed):\n",
    "        self.speed = speed\n",
    "            \n",
    "            \n",
    "# instances created\n",
    "BMW = Car(2018, 144)\n",
    "FORD = Car(2016, 155)\n",
    "\n",
    "BMW.getSpeed()\n",
    "BMW.setSpeed(143)\n",
    "BMW.getSpeed()\n",
    "FORD.getSpeed()"
   ]
  },
  {
   "cell_type": "markdown",
   "id": "3c5a45bc",
   "metadata": {},
   "source": [
    "# Inheritance"
   ]
  },
  {
   "cell_type": "code",
   "execution_count": 5,
   "id": "9a7d4d95",
   "metadata": {},
   "outputs": [],
   "source": [
    "# is a mechanism for a new class to use the features of another class"
   ]
  },
  {
   "cell_type": "code",
   "execution_count": 6,
   "id": "65f236d7",
   "metadata": {},
   "outputs": [
    {
     "name": "stdout",
     "output_type": "stream",
     "text": [
      "Maximum speed is 144\n",
      "Maximum speed is 150\n",
      "Trunk has opened\n",
      "137\n"
     ]
    }
   ],
   "source": [
    "class Car:\n",
    "    \n",
    "    def __init__(self, year, speed):\n",
    "        self.year = year\n",
    "        self.speed = speed\n",
    "        \n",
    "    def getSpeed(self):\n",
    "        print(\"Maximum speed is\", self.speed)\n",
    "            \n",
    "    def setSpeed(self,speed):\n",
    "        self.speed = speed\n",
    "            \n",
    "            \n",
    "# instances created\n",
    "BMW = Car(2018, 144)\n",
    "FORD = Car(2016, 155)\n",
    "\n",
    "class Sedan(Car): # it is a child class inherited from class car\n",
    "    \n",
    "    def accelerate(self):\n",
    "        print(\"137\")\n",
    "    \n",
    "    def openTrunk(self):\n",
    "        print(\"Trunk has opened\")\n",
    "        \n",
    "class SUB(Car):  # its a child class inherited from car class\n",
    "    def accelerate(self):\n",
    "        print(\"127\")\n",
    "              \n",
    "Honda = Sedan(2018,150)\n",
    "BMW.getSpeed()\n",
    "Honda.getSpeed() # is inherireted from the car class\n",
    "Honda.openTrunk()\n",
    "#BMw.openTrunk()gives error because the car class does not have openTrunk() method because car is the parent class\n",
    "Honda.accelerate()"
   ]
  },
  {
   "cell_type": "markdown",
   "id": "6a8b8911",
   "metadata": {},
   "source": [
    "# Encapsulation "
   ]
  },
  {
   "cell_type": "code",
   "execution_count": 7,
   "id": "158e2b30",
   "metadata": {},
   "outputs": [],
   "source": [
    "# nThe feature of preventing data from direct acccess is called encapsulation"
   ]
  },
  {
   "cell_type": "code",
   "execution_count": 8,
   "id": "1b5e8f15",
   "metadata": {},
   "outputs": [
    {
     "name": "stdout",
     "output_type": "stream",
     "text": [
      "Maximum speed is 144\n",
      "Maximum speed is 150\n",
      "Trunk has opened\n",
      "137\n"
     ]
    }
   ],
   "source": [
    "# for example the class car so in these area we canot change anything about the class car\n",
    "\n",
    "              \n",
    "Honda = Sedan(2018,150)\n",
    "BMW.getSpeed()\n",
    "Honda.getSpeed() # is inherireted from the car class\n",
    "Honda.openTrunk()\n",
    "#BMw.openTrunk()gives error because the car class does not have openTrunk() method because car is the parent class\n",
    "Honda.accelerate()"
   ]
  },
  {
   "cell_type": "markdown",
   "id": "44d5bd53",
   "metadata": {},
   "source": [
    "# Polymorphism"
   ]
  },
  {
   "cell_type": "code",
   "execution_count": 9,
   "id": "294f18a7",
   "metadata": {},
   "outputs": [],
   "source": [
    "# Polimorphism is the feature of using the same function in multiple ways"
   ]
  },
  {
   "cell_type": "code",
   "execution_count": 11,
   "id": "7b4f4c4d",
   "metadata": {},
   "outputs": [
    {
     "name": "stdout",
     "output_type": "stream",
     "text": [
      "Camry: 150\n",
      "Scorpio: 180\n"
     ]
    }
   ],
   "source": [
    "class Car: # parent class\n",
    "    def __init__(self, name):\n",
    "        self.name = name\n",
    "        \n",
    "class Sedan(Car): # child class\n",
    "    def accelerate(self):\n",
    "        print(\"150\")\n",
    "        \n",
    "class SUV(Car): # child class\n",
    "    def accelerate(self):\n",
    "        print(\"180\")\n",
    "        \n",
    "objL = [Sedan(\"Camry\"), SUV(\"Scorpio\")]\n",
    "\n",
    "for obj in objL:\n",
    "    print(obj.name +\": \", end = \"\") # so we have polymorphised the name from car class and used accelerate method in diffirent ways\n",
    "    obj.accelerate()\n",
    "    "
   ]
  },
  {
   "cell_type": "code",
   "execution_count": null,
   "id": "f4d41147",
   "metadata": {},
   "outputs": [],
   "source": []
  }
 ],
 "metadata": {
  "kernelspec": {
   "display_name": "Python 3 (ipykernel)",
   "language": "python",
   "name": "python3"
  },
  "language_info": {
   "codemirror_mode": {
    "name": "ipython",
    "version": 3
   },
   "file_extension": ".py",
   "mimetype": "text/x-python",
   "name": "python",
   "nbconvert_exporter": "python",
   "pygments_lexer": "ipython3",
   "version": "3.11.5"
  }
 },
 "nbformat": 4,
 "nbformat_minor": 5
}
