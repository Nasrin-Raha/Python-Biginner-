{
 "cells": [
  {
   "cell_type": "code",
   "execution_count": 1,
   "id": "710aced9",
   "metadata": {},
   "outputs": [],
   "source": [
    "#While Loop"
   ]
  },
  {
   "cell_type": "code",
   "execution_count": 9,
   "id": "404a1206",
   "metadata": {},
   "outputs": [
    {
     "name": "stdout",
     "output_type": "stream",
     "text": [
      "Enter a multiple of 7:34\n",
      "Enter a multiple of 7:34\n",
      "Enter a multiple of 7:12\n",
      "Enter a multiple of 7:76\n",
      "Enter a multiple of 7:54\n",
      "Enter a multiple of 7:79\n",
      "Enter a multiple of 7:7\n",
      "7 is a multiple of 7\n"
     ]
    }
   ],
   "source": [
    "val = int(input(\"Enter a multiple of 7:\"))\n",
    "while val%7 != 0 :\n",
    "    val = int(input(\"Enter a multiple of 7:\"))\n",
    "else:\n",
    "    print(\"%d is a multiple of 7\" %val)"
   ]
  },
  {
   "cell_type": "code",
   "execution_count": 14,
   "id": "02c69bfa",
   "metadata": {},
   "outputs": [
    {
     "name": "stdout",
     "output_type": "stream",
     "text": [
      "Enter a puzzle correctly234\n",
      "Enter a puzzle correctly234\n",
      "Enter a puzzle correctly6543\n",
      "Enter a puzzle correctly2345\n",
      "Enter a puzzle correctly123\n",
      "You entered the correct puzzle\n"
     ]
    }
   ],
   "source": [
    "var = int(input(\"Enter a puzzle correctly\"))\n",
    "while var != 123:\n",
    "    var = int(input(\"Enter a puzzle correctly\"))\n",
    "else:\n",
    "    print(\"You entered the correct puzzle\")"
   ]
  },
  {
   "cell_type": "markdown",
   "id": "32643bdf",
   "metadata": {},
   "source": [
    "# For Loop"
   ]
  },
  {
   "cell_type": "code",
   "execution_count": 15,
   "id": "c559e922",
   "metadata": {},
   "outputs": [
    {
     "name": "stdout",
     "output_type": "stream",
     "text": [
      "2\n",
      "34\n",
      "Simplilearn\n"
     ]
    }
   ],
   "source": [
    "x = [2,34,\"Simplilearn\"]\n",
    "for i in x:\n",
    "    print(i)"
   ]
  },
  {
   "cell_type": "code",
   "execution_count": 16,
   "id": "97981bbe",
   "metadata": {},
   "outputs": [],
   "source": [
    "#Nested loops\n"
   ]
  },
  {
   "cell_type": "code",
   "execution_count": 20,
   "id": "bca7f554",
   "metadata": {},
   "outputs": [
    {
     "name": "stdout",
     "output_type": "stream",
     "text": [
      "123\n",
      "abc\n"
     ]
    }
   ],
   "source": [
    "x = [[1,2,3],[\"a\",\"b\",\"c\"]]\n",
    "for i in x:\n",
    "    for j in i:\n",
    "        print(j, end = \"\")\n",
    "    print()"
   ]
  },
  {
   "cell_type": "code",
   "execution_count": 24,
   "id": "ec90df18",
   "metadata": {},
   "outputs": [
    {
     "name": "stdout",
     "output_type": "stream",
     "text": [
      "[1, 2, 3]\n",
      "['a', 'b', 'c']\n"
     ]
    }
   ],
   "source": [
    "x = [[1,2,3],[\"a\",\"b\",\"c\"]]\n",
    "for i in x:\n",
    "    print(i, end = \"\")\n",
    "    print()"
   ]
  },
  {
   "cell_type": "markdown",
   "id": "11e58036",
   "metadata": {},
   "source": [
    "# Loop control statements"
   ]
  },
  {
   "cell_type": "code",
   "execution_count": 25,
   "id": "0068e8ce",
   "metadata": {},
   "outputs": [],
   "source": [
    "#break"
   ]
  },
  {
   "cell_type": "code",
   "execution_count": 27,
   "id": "cc8a55d1",
   "metadata": {},
   "outputs": [
    {
     "name": "stdout",
     "output_type": "stream",
     "text": [
      "Hey there"
     ]
    }
   ],
   "source": [
    "x = \"Hey there. How are you\"\n",
    "for i in x:\n",
    "    if i == \".\":\n",
    "        break\n",
    "    print(i, end = \"\")"
   ]
  },
  {
   "cell_type": "code",
   "execution_count": 37,
   "id": "d18d8c8c",
   "metadata": {},
   "outputs": [],
   "source": [
    "# Continue"
   ]
  },
  {
   "cell_type": "code",
   "execution_count": 42,
   "id": "5fb1b699",
   "metadata": {},
   "outputs": [
    {
     "name": "stdout",
     "output_type": "stream",
     "text": [
      "13\n"
     ]
    }
   ],
   "source": [
    "for i in [1,2,3,4,5,6,7,86,24,13]:\n",
    "    if i > 10:\n",
    "        continue\n",
    "print(i)"
   ]
  },
  {
   "cell_type": "markdown",
   "id": "4125ebf8",
   "metadata": {},
   "source": [
    "# For loop in Python"
   ]
  },
  {
   "cell_type": "code",
   "execution_count": 45,
   "id": "c44b3af1",
   "metadata": {},
   "outputs": [
    {
     "name": "stdout",
     "output_type": "stream",
     "text": [
      "34 [1] [2]\n"
     ]
    }
   ],
   "source": [
    "x = [34,2.4, \"Simplilearn\"]\n",
    "print(x[0],[1],[2])"
   ]
  },
  {
   "cell_type": "code",
   "execution_count": 46,
   "id": "1d7548bf",
   "metadata": {},
   "outputs": [],
   "source": [
    "# but what if we have millions of records so no worries we have solution and the solutions is for loop\n"
   ]
  },
  {
   "cell_type": "code",
   "execution_count": 56,
   "id": "4ccc0bb3",
   "metadata": {},
   "outputs": [
    {
     "name": "stdout",
     "output_type": "stream",
     "text": [
      "34\n",
      "2.4\n",
      "Simplilearn\n"
     ]
    }
   ],
   "source": [
    "x = [34,2.4, \"Simplilearn\"]\n",
    "for i in x:\n",
    "    print(i)"
   ]
  },
  {
   "cell_type": "code",
   "execution_count": 57,
   "id": "fe3c63d2",
   "metadata": {},
   "outputs": [],
   "source": [
    "# print every even element from 0 to 20"
   ]
  },
  {
   "cell_type": "code",
   "execution_count": 60,
   "id": "a8436c4c",
   "metadata": {},
   "outputs": [
    {
     "name": "stdout",
     "output_type": "stream",
     "text": [
      "0\n",
      "2\n",
      "4\n",
      "6\n",
      "8\n",
      "10\n",
      "12\n",
      "14\n",
      "16\n",
      "18\n",
      "20\n"
     ]
    }
   ],
   "source": [
    "for i in range(0,21,2):\n",
    "    print(i)"
   ]
  },
  {
   "cell_type": "code",
   "execution_count": 61,
   "id": "5403cb2a",
   "metadata": {},
   "outputs": [],
   "source": [
    "# we need 0 to 20 so to count 20 we need till 21 and 2 means scape one element and go to the next"
   ]
  },
  {
   "cell_type": "code",
   "execution_count": null,
   "id": "da54a48b",
   "metadata": {},
   "outputs": [],
   "source": [
    "# use if statement"
   ]
  },
  {
   "cell_type": "code",
   "execution_count": 64,
   "id": "632ce2e7",
   "metadata": {},
   "outputs": [
    {
     "name": "stdout",
     "output_type": "stream",
     "text": [
      "110\n"
     ]
    }
   ],
   "source": [
    "sum = 0\n",
    "for i in range(0,21):\n",
    "    if i%2 == 0:\n",
    "        sum = sum+i\n",
    "print(sum)\n",
    "        "
   ]
  },
  {
   "cell_type": "code",
   "execution_count": 65,
   "id": "28a46f88",
   "metadata": {},
   "outputs": [],
   "source": [
    "# Patterns"
   ]
  },
  {
   "cell_type": "code",
   "execution_count": 66,
   "id": "79a55c8f",
   "metadata": {},
   "outputs": [],
   "source": [
    "# 1\n",
    "# 12\n",
    "# 123\n",
    "# 1234\n",
    "# 12345"
   ]
  },
  {
   "cell_type": "code",
   "execution_count": 75,
   "id": "bdeae9a3",
   "metadata": {},
   "outputs": [
    {
     "name": "stdout",
     "output_type": "stream",
     "text": [
      "Enter a number10\n",
      "1\n",
      "12\n",
      "123\n",
      "1234\n",
      "12345\n",
      "123456\n",
      "1234567\n",
      "12345678\n",
      "123456789\n",
      "12345678910\n"
     ]
    }
   ],
   "source": [
    "n = int(input(\"Enter a number\"))\n",
    "for i in range(1, n+1):\n",
    "    for j in range(1, i+1):\n",
    "        print(j, end= \"\")\n",
    "    print()"
   ]
  },
  {
   "cell_type": "code",
   "execution_count": 76,
   "id": "902c376b",
   "metadata": {},
   "outputs": [],
   "source": [
    "# example"
   ]
  },
  {
   "cell_type": "code",
   "execution_count": 83,
   "id": "e806cfbf",
   "metadata": {},
   "outputs": [
    {
     "name": "stdout",
     "output_type": "stream",
     "text": [
      "Enter number of rows2\n",
      "Enter number of columns2\n",
      "Enter the 0 * 0 element1\n",
      "Enter the 0 * 1 element2\n",
      "Enter the 1 * 0 element3\n",
      "Enter the 1 * 1 element4\n",
      "Enter the 0 * 0 element2\n",
      "Enter the 0 * 1 element5\n",
      "Enter the 1 * 0 element6\n",
      "Enter the 1 * 1 element7\n",
      "[[3, 7], [9, 11]]\n"
     ]
    }
   ],
   "source": [
    "r = int(input(\"Enter number of rows\"))\n",
    "c = int(input(\"Enter number of columns\"))\n",
    "X = []\n",
    "val = []\n",
    "for i in range(0,r):\n",
    "    for j in range(0,c):\n",
    "        val.insert(j, int(input(\"Enter the %d * %d element\" %(i,j))))\n",
    "    X.insert(i,val)\n",
    "    val = []\n",
    "    \n",
    "Y = []\n",
    "for i in range(0,r):\n",
    "    for j in range(0,c):\n",
    "        val.insert(j, int(input(\"Enter the %d * %d element\" %(i,j))))\n",
    "    Y.insert(i,val)\n",
    "    val = []\n",
    "sum = []\n",
    "for i in range(0,r):\n",
    "    for j in range(0,c):\n",
    "        val.insert(j, X[i][j]+ Y[i][j])\n",
    "    sum.insert(i,val)\n",
    "    val = []\n",
    "print(sum)"
   ]
  },
  {
   "cell_type": "code",
   "execution_count": null,
   "id": "a4da2ef7",
   "metadata": {},
   "outputs": [],
   "source": []
  }
 ],
 "metadata": {
  "kernelspec": {
   "display_name": "Python 3 (ipykernel)",
   "language": "python",
   "name": "python3"
  },
  "language_info": {
   "codemirror_mode": {
    "name": "ipython",
    "version": 3
   },
   "file_extension": ".py",
   "mimetype": "text/x-python",
   "name": "python",
   "nbconvert_exporter": "python",
   "pygments_lexer": "ipython3",
   "version": "3.11.5"
  }
 },
 "nbformat": 4,
 "nbformat_minor": 5
}
